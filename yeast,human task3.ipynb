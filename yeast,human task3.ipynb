{
 "cells": [
  {
   "cell_type": "code",
   "execution_count": 15,
   "metadata": {},
   "outputs": [
    {
     "name": "stdout",
     "output_type": "stream",
     "text": [
      "MVK\n",
      "ETK\n",
      "FYDILGVPVTATDVEIK\n",
      "K\n",
      "AYRK\n",
      "CALK\n",
      "YHPDK\n",
      "NPSEEAAEK\n",
      "FK\n",
      "EASAAYEILSDPEK\n",
      "RDIYDQFGEDGLSGAGGAGGFPGGGFGFGDDIFSQFFGAGGAQRPRGPQRGK\n",
      "DIK\n",
      "HEISASLEELYK\n",
      "GRTAK\n",
      "LALNK\n",
      "QILCK\n",
      "ECEGRGGK\n",
      "K\n",
      "GAVK\n",
      "K\n",
      "CTSCNGQGIK\n",
      "FVTRQMGPMIQRFQTECDVCHGTGDIIDPK\n",
      "DRCK\n",
      "SCNGK\n",
      "K\n",
      "VENERK\n",
      "ILEVHVEPGMK\n",
      "DGQRIVFK\n",
      "GEADQAPDVIPGDVVFIVSERPHK\n",
      "SFK\n",
      "RDGDDLVYEAEIDLLTAIAGGEFALEHVSGDWLK\n",
      "VGIVPGEVIAPGMRK\n",
      "VIEGK\n",
      "GMPIPK\n",
      "YGGYGNLIIK\n",
      "FTIK\n",
      "FPENHFTSEENLK\n",
      "K\n",
      "LEEILPPRIVPAIPK\n",
      "K\n",
      "ATVDECVLADFDPAK\n",
      "YNRTRASRGGANYDSDEEEQGGEGVQCASQ\n"
     ]
    },
    {
     "data": {
      "text/plain": [
       "42"
      ]
     },
     "execution_count": 15,
     "metadata": {},
     "output_type": "execute_result"
    }
   ],
   "source": [
    "#code lysin (yeast)\n",
    "from pyopenms import *\n",
    "from urllib.request import urlretrieve\n",
    "\n",
    "dig = ProteaseDigestion()\n",
    "dig.setEnzyme('Lys-C') \n",
    "bsa = \"\".join([l.strip() for l in open(\"hash.fasta\").readlines()[1:]])\n",
    "bsa = AASequence.fromString(bsa)\n",
    "result = []\n",
    "dig.digest(bsa, result)\n",
    "for i in result:\n",
    "    \n",
    "    print(i.toString())\n",
    "len(result)"
   ]
  },
  {
   "cell_type": "code",
   "execution_count": null,
   "metadata": {},
   "outputs": [],
   "source": []
  },
  {
   "cell_type": "code",
   "execution_count": 10,
   "metadata": {},
   "outputs": [
    {
     "name": "stdout",
     "output_type": "stream",
     "text": [
      "MVK\n",
      "ETK\n",
      "FYDILGVPVTATDVEIK\n",
      "K\n",
      "AYR\n",
      "K\n",
      "CALK\n",
      "YHPDK\n",
      "NPSEEAAEK\n",
      "FK\n",
      "EASAAYEILSDPEK\n",
      "R\n",
      "DIYDQFGEDGLSGAGGAGGFPGGGFGFGDDIFSQFFGAGGAQRPR\n",
      "GPQR\n",
      "GK\n",
      "DIK\n",
      "HEISASLEELYK\n",
      "GR\n",
      "TAK\n",
      "LALNK\n",
      "QILCK\n",
      "ECEGR\n",
      "GGK\n",
      "K\n",
      "GAVK\n",
      "K\n",
      "CTSCNGQGIK\n",
      "FVTR\n",
      "QMGPMIQR\n",
      "FQTECDVCHGTGDIIDPK\n",
      "DR\n",
      "CK\n",
      "SCNGK\n",
      "K\n",
      "VENER\n",
      "K\n",
      "ILEVHVEPGMK\n",
      "DGQR\n",
      "IVFK\n",
      "GEADQAPDVIPGDVVFIVSERPHK\n",
      "SFK\n",
      "R\n",
      "DGDDLVYEAEIDLLTAIAGGEFALEHVSGDWLK\n",
      "VGIVPGEVIAPGMR\n",
      "K\n",
      "VIEGK\n",
      "GMPIPK\n",
      "YGGYGNLIIK\n",
      "FTIK\n",
      "FPENHFTSEENLK\n",
      "K\n",
      "LEEILPPR\n",
      "IVPAIPK\n",
      "K\n",
      "ATVDECVLADFDPAK\n",
      "YNR\n",
      "TR\n",
      "ASR\n",
      "GGANYDSDEEEQGGEGVQCASQ\n"
     ]
    },
    {
     "data": {
      "text/plain": [
       "59"
      ]
     },
     "execution_count": 10,
     "metadata": {},
     "output_type": "execute_result"
    }
   ],
   "source": [
    "#code trypsin(yeast)\n",
    "from pyopenms import *\n",
    "from urllib.request import urlretrieve\n",
    "\n",
    "dig = ProteaseDigestion()\n",
    "dig.getEnzymeName() # Trypsin\n",
    "bsa = \"\".join([l.strip() for l in open(\"hash.fasta\").readlines()[1:]])\n",
    "bsa = AASequence.fromString(bsa)\n",
    "result = []\n",
    "dig.digest(bsa, result)\n",
    "for i in result:\n",
    "    \n",
    "    print(i.toString())\n",
    "len(result)"
   ]
  },
  {
   "cell_type": "code",
   "execution_count": 13,
   "metadata": {},
   "outputs": [
    {
     "name": "stdout",
     "output_type": "stream",
     "text": [
      "MVCLK\n",
      "LPGGSCMTALTVTLMVLSSPLALSGDTRPR\n",
      "FLWQPK\n",
      "R\n",
      "ECHFFNGTER\n",
      "VR\n",
      "FLDR\n",
      "YFYNQEESVR\n",
      "FDSDVGEFR\n",
      "AVTELGRPDAEYWNSQK\n",
      "DILEQAR\n",
      "AAVDTYCR\n",
      "HNYGVVESFTVQR\n",
      "R\n",
      "VQPK\n",
      "VTVYPSK\n",
      "TQPLQHHNLLVCSVSGFYPGSIEVR\n",
      "WFLNGQEEK\n",
      "AGMVSTGLIQNGDWTFQTLVMLETVPR\n",
      "SGEVYTCQVEHPSVTSPLTVEWR\n",
      "AR\n",
      "SESAQSK\n",
      "MLSGVGGFVLGLLFLGAGLFIYFR\n",
      "NQK\n",
      "GHSGLQPTGFLS\n"
     ]
    },
    {
     "data": {
      "text/plain": [
       "25"
      ]
     },
     "execution_count": 13,
     "metadata": {},
     "output_type": "execute_result"
    }
   ],
   "source": [
    "#code trypsin (human)\n",
    "from pyopenms import *\n",
    "from urllib.request import urlretrieve\n",
    "\n",
    "dig = ProteaseDigestion()\n",
    "dig.getEnzymeName() # Trypsin\n",
    "bsa = \"\".join([l.strip() for l in open(\"homo.fasta\").readlines()[1:]])\n",
    "bsa = AASequence.fromString(bsa)\n",
    "result = []\n",
    "dig.digest(bsa, result)\n",
    "for i in result:\n",
    "    \n",
    "    print(i.toString())\n",
    "len(result)"
   ]
  },
  {
   "cell_type": "code",
   "execution_count": 14,
   "metadata": {},
   "outputs": [
    {
     "name": "stdout",
     "output_type": "stream",
     "text": [
      "MVCLK\n",
      "LPGGSCMTALTVTLMVLSSPLALSGDTRPRFLWQPK\n",
      "RECHFFNGTERVRFLDRYFYNQEESVRFDSDVGEFRAVTELGRPDAEYWNSQK\n",
      "DILEQARAAVDTYCRHNYGVVESFTVQRRVQPK\n",
      "VTVYPSK\n",
      "TQPLQHHNLLVCSVSGFYPGSIEVRWFLNGQEEK\n",
      "AGMVSTGLIQNGDWTFQTLVMLETVPRSGEVYTCQVEHPSVTSPLTVEWRARSESAQSK\n",
      "MLSGVGGFVLGLLFLGAGLFIYFRNQK\n",
      "GHSGLQPTGFLS\n"
     ]
    },
    {
     "data": {
      "text/plain": [
       "9"
      ]
     },
     "execution_count": 14,
     "metadata": {},
     "output_type": "execute_result"
    }
   ],
   "source": [
    "#code lysin (human)\n",
    "from pyopenms import *\n",
    "from urllib.request import urlretrieve\n",
    "\n",
    "dig = ProteaseDigestion()\n",
    "dig.setEnzyme('Lys-C') \n",
    "bsa = \"\".join([l.strip() for l in open(\"homo.fasta\").readlines()[1:]])\n",
    "bsa = AASequence.fromString(bsa)\n",
    "result = []\n",
    "dig.digest(bsa, result)\n",
    "for i in result:\n",
    "    \n",
    "    print(i.toString())\n",
    "len(result)"
   ]
  },
  {
   "cell_type": "code",
   "execution_count": null,
   "metadata": {},
   "outputs": [],
   "source": []
  }
 ],
 "metadata": {
  "kernelspec": {
   "display_name": "Python 3",
   "language": "python",
   "name": "python3"
  },
  "language_info": {
   "codemirror_mode": {
    "name": "ipython",
    "version": 3
   },
   "file_extension": ".py",
   "mimetype": "text/x-python",
   "name": "python",
   "nbconvert_exporter": "python",
   "pygments_lexer": "ipython3",
   "version": "3.8.5"
  }
 },
 "nbformat": 4,
 "nbformat_minor": 4
}
